{
 "cells": [
  {
   "cell_type": "code",
   "execution_count": 1,
   "metadata": {},
   "outputs": [
    {
     "name": "stdout",
     "output_type": "stream",
     "text": [
      "120\n",
      "upper case : 3\n",
      "lower case : 2\n",
      "4\n",
      "2\n",
      "True\n",
      "11 is a prime number\n",
      "11 is a prime number\n",
      "11 is a prime number\n",
      "['banana', 'apple', 'zinger']\n"
     ]
    }
   ],
   "source": [
    "def fact(n):\n",
    "    if n == 1:\n",
    "        return 1\n",
    "    else:\n",
    "        x = n * fact(n-1)\n",
    "        return x\n",
    "\n",
    "print(fact(5))\n",
    "\n",
    "def check(string):\n",
    "    upper = 0\n",
    "    lower = 0\n",
    "    for i in string:\n",
    "        if i.isupper():\n",
    "            upper += 1\n",
    "        else:\n",
    "            lower += 1\n",
    "    print('upper case :',upper)\n",
    "    print('lower case :',lower)\n",
    "\n",
    "check('AbcDE')\n",
    "\n",
    "def even(lis):\n",
    "    for i in range(len(lis)):\n",
    "        if lis[i] % 2 == 0:\n",
    "            print(lis[i])\n",
    "\n",
    "even([1,4,2,5])\n",
    "\n",
    "def reverse(s): \n",
    "    return s[::-1] \n",
    "  \n",
    "def isPalindrome(s): \n",
    "    rev = reverse(s) \n",
    "   \n",
    "    if (s == rev): \n",
    "        return True\n",
    "    return False\n",
    "   \n",
    "print(isPalindrome('malayalam'))\n",
    "\n",
    "def prime(num):\n",
    "    if num > 1:  \n",
    "        for i in range(2, num//2): \n",
    "           if (num % i) == 0: \n",
    "               print(num, \"is not a prime number\") \n",
    "               break\n",
    "           else: \n",
    "               print(num, \"is a prime number\") \n",
    "  \n",
    "\n",
    "prime(11)\n",
    "\n",
    "def shoppinglist(*args):\n",
    "    for arg in args:\n",
    "        print(arg)\n",
    "\n",
    "shoppinglist(['banana','apple','zinger'])\n",
    "\n"
   ]
  },
  {
   "cell_type": "code",
   "execution_count": null,
   "metadata": {},
   "outputs": [],
   "source": []
  }
 ],
 "metadata": {
  "kernelspec": {
   "display_name": "Python 3",
   "language": "python",
   "name": "python3"
  },
  "language_info": {
   "codemirror_mode": {
    "name": "ipython",
    "version": 3
   },
   "file_extension": ".py",
   "mimetype": "text/x-python",
   "name": "python",
   "nbconvert_exporter": "python",
   "pygments_lexer": "ipython3",
   "version": "3.7.0"
  }
 },
 "nbformat": 4,
 "nbformat_minor": 2
}
